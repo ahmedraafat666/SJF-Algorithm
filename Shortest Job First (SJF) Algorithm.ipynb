{
 "cells": [
  {
   "cell_type": "code",
   "execution_count": 6,
   "id": "79709f89",
   "metadata": {},
   "outputs": [],
   "source": [
    "# check for newprocess arrived\n",
    "# sort by burst time asc. then by arrival time\n",
    "# execute till complete for shortest process"
   ]
  },
  {
   "cell_type": "code",
   "execution_count": 7,
   "id": "9c085178",
   "metadata": {},
   "outputs": [],
   "source": [
    "class process:\n",
    "    def __init__(self, pid, at, bt):\n",
    "        self.pid = pid\n",
    "        self.arrival = at\n",
    "        self.burst = bt"
   ]
  },
  {
   "cell_type": "code",
   "execution_count": 8,
   "id": "d81672bd",
   "metadata": {},
   "outputs": [],
   "source": [
    "chart = []\n",
    "\n",
    "def SJF(plist, n, preemp):\n",
    "    global chart\n",
    "    \n",
    "    queue = []\n",
    "    time = 0\n",
    "    ap = 0    # arrived process\n",
    "    rp = 0    # ready process\n",
    "    done = 0  # done process\n",
    "    \n",
    "    if not preemp:\n",
    "        while (done<n):\n",
    "            for i in range(ap,n):\n",
    "                if time >= plist[i].arrival:\n",
    "                    queue.append(plist[i])\n",
    "                    ap += 1 \n",
    "                    rp += 1\n",
    "            \n",
    "            if rp<1:\n",
    "                time += 1\n",
    "                chart.append(0)\n",
    "                continue\n",
    "                \n",
    "            queue.sort(key=lambda x: (x.burst, x.arrival))\n",
    "            \n",
    "            if queue[0].burst>0:\n",
    "                for g in range(queue[0].burst):\n",
    "                    chart.append(queue[0].pid)\n",
    "                time += queue[0].burst\n",
    "                queue[0].burst = 999999999\n",
    "                done += 1\n",
    "                rp -= 1\n",
    "                \n",
    "    else:   # preemptive Algo\n",
    "        while (done<n):\n",
    "            for i in range(ap,n):\n",
    "                if time >= plist[i].arrival:\n",
    "                    queue.append(plist[i])\n",
    "                    ap += 1 \n",
    "                    rp += 1\n",
    "            \n",
    "            if rp<1:\n",
    "                time += 1\n",
    "                chart.append(0)\n",
    "                continue\n",
    "                \n",
    "            queue.sort(key=lambda x: (x.burst, x.arrival))\n",
    "            \n",
    "            if queue[0].burst>0:\n",
    "                chart.append(queue[0].pid)\n",
    "                time += 1\n",
    "                queue[0].burst -= 1\n",
    "                if queue[0].burst <1 :\n",
    "                    queue[0].burst = 999999999 #process finished bt = 0\n",
    "                    done += 1\n",
    "                    rp -= 1"
   ]
  },
  {
   "cell_type": "code",
   "execution_count": 9,
   "id": "3438eaa1",
   "metadata": {},
   "outputs": [],
   "source": [
    "plist = []\n",
    "plist.append(process(1,0,7))\n",
    "plist.append(process(2,2,4))\n",
    "plist.append(process(3,4,1))\n",
    "plist.append(process(4,5,4))"
   ]
  },
  {
   "cell_type": "code",
   "execution_count": 10,
   "id": "9528c870",
   "metadata": {},
   "outputs": [
    {
     "name": "stdout",
     "output_type": "stream",
     "text": [
      "[1, 1, 1, 1, 1, 1, 1, 3, 2, 2, 2, 2, 4, 4, 4, 4]\n"
     ]
    }
   ],
   "source": [
    "SJF(plist, len(plist), 0) # non Preemptive ALgo\n",
    "print(chart)"
   ]
  },
  {
   "cell_type": "code",
   "execution_count": null,
   "id": "da69ed4b",
   "metadata": {},
   "outputs": [],
   "source": []
  },
  {
   "cell_type": "code",
   "execution_count": null,
   "id": "d4315bf3",
   "metadata": {},
   "outputs": [],
   "source": []
  },
  {
   "cell_type": "code",
   "execution_count": null,
   "id": "0ec9485b",
   "metadata": {},
   "outputs": [],
   "source": []
  },
  {
   "cell_type": "code",
   "execution_count": null,
   "id": "9b79824a",
   "metadata": {},
   "outputs": [],
   "source": []
  },
  {
   "cell_type": "code",
   "execution_count": null,
   "id": "fb46ae2d",
   "metadata": {},
   "outputs": [],
   "source": []
  }
 ],
 "metadata": {
  "kernelspec": {
   "display_name": "Python 3 (ipykernel)",
   "language": "python",
   "name": "python3"
  },
  "language_info": {
   "codemirror_mode": {
    "name": "ipython",
    "version": 3
   },
   "file_extension": ".py",
   "mimetype": "text/x-python",
   "name": "python",
   "nbconvert_exporter": "python",
   "pygments_lexer": "ipython3",
   "version": "3.10.9"
  }
 },
 "nbformat": 4,
 "nbformat_minor": 5
}
